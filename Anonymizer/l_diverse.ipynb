{
  "nbformat": 4,
  "nbformat_minor": 0,
  "metadata": {
    "colab": {
      "name": "t_closeness.ipynb",
      "provenance": [],
      "collapsed_sections": []
    },
    "kernelspec": {
      "name": "python3",
      "display_name": "Python 3"
    }
  },
  "cells": [
    {
      "cell_type": "code",
      "metadata": {
        "id": "8HU8-I6QU7sR",
        "colab_type": "code",
        "colab": {}
      },
      "source": [
        "class LDiversityAnonymizer():\n",
        "  def __init__(self , df , quasi_identifiers , sensitive_attributes, write_to_file = False ,verbose = 1):\n",
        "    L_Diverse_Validate(df , quasi_identifiers , sensitive_attributes)\n",
        "    self.df = df[quasi_identifiers + sensitive_attributes ]\n",
        "    self.sensitive_attributes = sensitive_attributes\n",
        "    self.quasi_identifiers = quasi_identifiers \n",
        "    self.verbose = verbose\n",
        "\n",
        "########### Methods to write pandas dataframe to a file  #########################\n",
        "\n",
        "  def file_write(self,file_name = 'output.csv',sep_ = ',',encoding_ = 'utf-8'):\n",
        "    self.df[quasi_identifiers+sensitive_attributes].to_csv(file_name, sep=sep_, encoding=encoding_)\n",
        "\n",
        "########## Method to perform L Diversity #########################################\n",
        "\n",
        "  def make_anonymize(self):\n",
        "    l_diverse_rows = self.df.groupby(self.quasi_identifiers).filter(lambda group: self.count_sensitive(group))\n",
        "    self.df = l_diverse_rows[self.quasi_identifiers + self.sensitive_attributes]\n",
        "\n",
        "  def count_sensitive(self,grp):\n",
        "    accept = True\n",
        "    for column in self.sensitive_attributes:\n",
        "      accept = accept and len(grp[column].unique()) >= self.l\n",
        "    return accept\n",
        "\n",
        "######### Public method  ########################################################   \n",
        "\n",
        "  def anonymize(self, l = 2):\n",
        "    self.l = l\n",
        "    self.make_anonymize()\n",
        "\n",
        "    return self.df\n",
        "\n"
      ],
      "execution_count": null,
      "outputs": []
    }
  ]
}