{
  "nbformat": 4,
  "nbformat_minor": 0,
  "metadata": {
    "colab": {
      "name": "t_closeness.ipynb",
      "provenance": [],
      "collapsed_sections": []
    },
    "kernelspec": {
      "name": "python3",
      "display_name": "Python 3"
    }
  },
  "cells": [
    {
      "cell_type": "code",
      "metadata": {
        "id": "8HU8-I6QU7sR",
        "colab_type": "code",
        "colab": {}
      },
      "source": [
        "class TClosenessAnonymizer():\n",
        "  \n",
        "  def __init__(self , df , quasi_identifiers , sensitive_attributes , write_to_file = False ,verbose = 1):\n",
        "    L_Diverse_Validate(df , quasi_identifiers , sensitive_attributes)\n",
        "    self.df = df[quasi_identifiers + sensitive_attributes ]\n",
        "    self.sensitive_attributes = sensitive_attributes\n",
        "    self.quasi_identifiers = quasi_identifiers \n",
        "    self.verbose = verbose\n",
        "    self.thresholds = None\n",
        "\n",
        "########### Methods to write pandas dataframe to a file  #########################\n",
        "\n",
        "  def file_write(self,file_name = 'output.csv',sep_ = ',',encoding_ = 'utf-8'):\n",
        "    self.df[quasi_identifiers+sensitive_attributes].to_csv(file_name, sep=sep_, encoding=encoding_)\n",
        "\n",
        "########## Method to perform T Closeness #########################################\n",
        "\n",
        "  def make_anonymize(self):\n",
        "    self.define_thresholds()\n",
        "    t_closeness_rows = self.df.groupby(self.quasi_identifiers).filter(lambda group: self.check_thresholds(group))\n",
        "    self.df = t_closeness_rows[self.quasi_identifiers + self.sensitive_attributes]\n",
        "\n",
        "  def define_thresholds(self):\n",
        "    thresholds = { column : self.df[column].value_counts()/len(self.df)  for column in self.sensitive_attributes}\n",
        "    self.thresholds = thresholds\n",
        "\n",
        "  def check_thresholds(self,grp):\n",
        "    length_cluster = len(grp)\n",
        "    accept = True\n",
        "    for column in self.sensitive_attributes:\n",
        "      grp_thresholds = grp[column].value_counts()/length_cluster\n",
        "      for element in grp_thresholds.keys():\n",
        "        accept = accept and (grp_thresholds[element]) + self.t >= self.thresholds[column][element]\n",
        "    return accept\n",
        "\n",
        "######### Public method  ########################################################   \n",
        "\n",
        "  def anonymize(self, t = 0.2):\n",
        "    if(t>= 1):\n",
        "       self.t = 0.2\n",
        "    else:\n",
        "        self.t = t \n",
        "    self.make_anonymize()\n",
        "\n",
        "    return self.df"
      ],
      "execution_count": null,
      "outputs": []
    }
  ]
}